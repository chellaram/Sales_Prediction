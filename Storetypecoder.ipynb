{
 "cells": [
  {
   "cell_type": "code",
   "execution_count": 4,
   "metadata": {
    "collapsed": true
   },
   "outputs": [],
   "source": [
    "import pandas as pd\n",
    "import matplotlib.pyplot as plt\n",
    "import datetime as dt\n",
    "import matplotlib.dates as mdates\n",
    "import numpy as np\n",
    "from sklearn.ensemble import RandomForestRegressor\n",
    "from sklearn.metrics import mean_squared_error\n",
    "from sklearn.cross_validation import train_test_split\n",
    "x = pd.read_csv('Test data.csv')\n",
    "y = pd.read_csv('DOS.csv')"
   ]
  },
  {
   "cell_type": "code",
   "execution_count": 5,
   "metadata": {
    "collapsed": false
   },
   "outputs": [
    {
     "name": "stderr",
     "output_type": "stream",
     "text": [
      "C:\\Users\\Chella Rm\\Anaconda2\\lib\\site-packages\\ipykernel\\__main__.py:33: SettingWithCopyWarning: \n",
      "A value is trying to be set on a copy of a slice from a DataFrame\n",
      "\n",
      "See the caveats in the documentation: http://pandas.pydata.org/pandas-docs/stable/indexing.html#indexing-view-versus-copy\n",
      "C:\\Users\\Chella Rm\\Anaconda2\\lib\\site-packages\\ipykernel\\__main__.py:29: SettingWithCopyWarning: \n",
      "A value is trying to be set on a copy of a slice from a DataFrame\n",
      "\n",
      "See the caveats in the documentation: http://pandas.pydata.org/pandas-docs/stable/indexing.html#indexing-view-versus-copy\n",
      "C:\\Users\\Chella Rm\\Anaconda2\\lib\\site-packages\\ipykernel\\__main__.py:35: SettingWithCopyWarning: \n",
      "A value is trying to be set on a copy of a slice from a DataFrame\n",
      "\n",
      "See the caveats in the documentation: http://pandas.pydata.org/pandas-docs/stable/indexing.html#indexing-view-versus-copy\n",
      "C:\\Users\\Chella Rm\\Anaconda2\\lib\\site-packages\\ipykernel\\__main__.py:31: SettingWithCopyWarning: \n",
      "A value is trying to be set on a copy of a slice from a DataFrame\n",
      "\n",
      "See the caveats in the documentation: http://pandas.pydata.org/pandas-docs/stable/indexing.html#indexing-view-versus-copy\n"
     ]
    }
   ],
   "source": [
    "x['Typea'] =0\n",
    "x['Typeb'] =0\n",
    "x['Typec'] =0\n",
    "x['Typed'] =0\n",
    "\n",
    "l = []\n",
    "m = []\n",
    "n = []\n",
    "o = []\n",
    "for a in range(0,len(y)):\n",
    "    if y['StoreType'][a]=='a':\n",
    "        l.append(a)\n",
    "    if y['StoreType'][a]=='b':\n",
    "        m.append(a)\n",
    "    if y['StoreType'][a]=='c':\n",
    "        n.append(a)\n",
    "    if y['StoreType'][a]=='d':\n",
    "        o.append(a)\n",
    "        \n",
    "                \n",
    "nl = [ou+1 for ou in l]\n",
    "nm = [p+1 for p in m]\n",
    "nn = [rr+1 for rr in n]\n",
    "no = [ro+1 for ro in o]\n",
    "\n",
    "\n",
    "for i in range(0,len(x)):\n",
    "    if x['Store'][i] in nl:\n",
    "        x['Typea'][i] =1\n",
    "    if x['Store'][i] in nm:\n",
    "        x['Typeb'][i] =1\n",
    "    if x['Store'][i] in nn:\n",
    "        x['Typec'][i] =1\n",
    "    if x['Store'][i] in no:\n",
    "        x['Typed'][i] =1\n",
    "x.to_csv('type_storetype.csv')"
   ]
  },
  {
   "cell_type": "code",
   "execution_count": null,
   "metadata": {
    "collapsed": true
   },
   "outputs": [],
   "source": []
  }
 ],
 "metadata": {
  "kernelspec": {
   "display_name": "Python 2",
   "language": "python",
   "name": "python2"
  },
  "language_info": {
   "codemirror_mode": {
    "name": "ipython",
    "version": 2
   },
   "file_extension": ".py",
   "mimetype": "text/x-python",
   "name": "python",
   "nbconvert_exporter": "python",
   "pygments_lexer": "ipython2",
   "version": "2.7.11"
  }
 },
 "nbformat": 4,
 "nbformat_minor": 0
}
