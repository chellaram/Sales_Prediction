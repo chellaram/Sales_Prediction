{
 "cells": [
  {
   "cell_type": "code",
   "execution_count": 2,
   "metadata": {
    "collapsed": true
   },
   "outputs": [],
   "source": [
    "import pandas as pd\n",
    "import matplotlib.pyplot as plt\n",
    "import datetime as dt\n",
    "import matplotlib.dates as mdates\n",
    "import numpy as np\n",
    "from sklearn.ensemble import RandomForestRegressor\n",
    "from sklearn.metrics import mean_squared_error\n",
    "from sklearn.cross_validation import train_test_split\n",
    "x = pd.read_csv('Test data.csv')\n",
    "y = pd.read_csv('DOS.csv')"
   ]
  },
  {
   "cell_type": "code",
   "execution_count": 3,
   "metadata": {
    "collapsed": false
   },
   "outputs": [
    {
     "name": "stderr",
     "output_type": "stream",
     "text": [
      "C:\\Users\\Chella Rm\\Anaconda2\\lib\\site-packages\\ipykernel\\__main__.py:29: SettingWithCopyWarning: \n",
      "A value is trying to be set on a copy of a slice from a DataFrame\n",
      "\n",
      "See the caveats in the documentation: http://pandas.pydata.org/pandas-docs/stable/indexing.html#indexing-view-versus-copy\n",
      "C:\\Users\\Chella Rm\\Anaconda2\\lib\\site-packages\\ipykernel\\__main__.py:33: SettingWithCopyWarning: \n",
      "A value is trying to be set on a copy of a slice from a DataFrame\n",
      "\n",
      "See the caveats in the documentation: http://pandas.pydata.org/pandas-docs/stable/indexing.html#indexing-view-versus-copy\n",
      "C:\\Users\\Chella Rm\\Anaconda2\\lib\\site-packages\\ipykernel\\__main__.py:31: SettingWithCopyWarning: \n",
      "A value is trying to be set on a copy of a slice from a DataFrame\n",
      "\n",
      "See the caveats in the documentation: http://pandas.pydata.org/pandas-docs/stable/indexing.html#indexing-view-versus-copy\n"
     ]
    }
   ],
   "source": [
    "l = []\n",
    "m = []\n",
    "n = []\n",
    "b = 0\n",
    "j = 0\n",
    "x['ATypeA'] = 0\n",
    "x['ATypeB'] = 0\n",
    "x['ATypeC'] = 0\n",
    "\n",
    "for b in range(0,len(y)):\n",
    "        \n",
    "    if y['Assortment'][b]=='a':\n",
    "        l.append(b)\n",
    "    \n",
    "    if y['Assortment'][b]=='b':\n",
    "        m.append(b)\n",
    "\n",
    "    if y['Assortment'][b]=='c':\n",
    "        n.append(b)\n",
    "nl = [pl+1 for pl in l]\n",
    "nm = [pm+1 for pm in m]\n",
    "nn = [pn+1 for pn in n]\n",
    "\n",
    "\n",
    "\n",
    "\n",
    "for j in range(0,len(x)):\n",
    "    if x['Store'][j] in nl:\n",
    "        x['ATypeA'][j] =1\n",
    "    if x['Store'][j] in nm:\n",
    "        x['ATypeB'][j] =1\n",
    "    if x['Store'][j] in nn:\n",
    "        x['ATypeC'][j] =1\n",
    "        \n",
    "x.to_csv('type_Assortment.csv')"
   ]
  },
  {
   "cell_type": "code",
   "execution_count": null,
   "metadata": {
    "collapsed": true
   },
   "outputs": [],
   "source": []
  }
 ],
 "metadata": {
  "kernelspec": {
   "display_name": "Python 2",
   "language": "python",
   "name": "python2"
  },
  "language_info": {
   "codemirror_mode": {
    "name": "ipython",
    "version": 2
   },
   "file_extension": ".py",
   "mimetype": "text/x-python",
   "name": "python",
   "nbconvert_exporter": "python",
   "pygments_lexer": "ipython2",
   "version": "2.7.11"
  }
 },
 "nbformat": 4,
 "nbformat_minor": 0
}
