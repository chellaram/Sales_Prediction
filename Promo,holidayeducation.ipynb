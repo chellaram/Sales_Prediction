{
 "cells": [
  {
   "cell_type": "code",
   "execution_count": 1,
   "metadata": {
    "collapsed": true
   },
   "outputs": [],
   "source": [
    "import pandas as pd\n",
    "import matplotlib.pyplot as plt\n",
    "import datetime as dt\n",
    "import matplotlib.dates as mdates\n",
    "import numpy as np\n",
    "from sklearn.ensemble import RandomForestRegressor\n",
    "from sklearn.metrics import mean_squared_error\n",
    "from sklearn.cross_validation import train_test_split\n",
    "x = pd.read_csv('Test data.csv')\n",
    "x['Promotions_Store'] = 0\n",
    "x['Holiday_City'] = 0\n",
    "x['Holiday_Of_Education'] = 0\n",
    "\n"
   ]
  },
  {
   "cell_type": "code",
   "execution_count": 5,
   "metadata": {
    "collapsed": false
   },
   "outputs": [
    {
     "name": "stderr",
     "output_type": "stream",
     "text": [
      "C:\\Users\\Chella Rm\\Anaconda2\\lib\\site-packages\\ipykernel\\__main__.py:3: SettingWithCopyWarning: \n",
      "A value is trying to be set on a copy of a slice from a DataFrame\n",
      "\n",
      "See the caveats in the documentation: http://pandas.pydata.org/pandas-docs/stable/indexing.html#indexing-view-versus-copy\n",
      "  app.launch_new_instance()\n",
      "C:\\Users\\Chella Rm\\Anaconda2\\lib\\site-packages\\ipykernel\\__main__.py:7: SettingWithCopyWarning: \n",
      "A value is trying to be set on a copy of a slice from a DataFrame\n",
      "\n",
      "See the caveats in the documentation: http://pandas.pydata.org/pandas-docs/stable/indexing.html#indexing-view-versus-copy\n"
     ]
    },
    {
     "name": "stdout",
     "output_type": "stream",
     "text": [
      "0\n",
      "10000\n",
      "20000\n",
      "30000\n",
      "40000\n",
      "50000\n"
     ]
    }
   ],
   "source": [
    "for ty in range(0,len(x)):\n",
    "    if(x['Promotions of the store'][ty]=='Yes'):\n",
    "        x['Promotions_Store'][ty] = 1 \n",
    "    if(x['Holiday_of_the_city'][ty]=='Holiday'):\n",
    "        x['Holiday_City'][ty] = 1l\n",
    "    if(x['Holiday_Of_Educational_Institute'][ty]=='Yes'):\n",
    "        x['Holiday_Of_Education'][ty] = 1\n",
    "    if (ty%10000 == 0):\n",
    "        print ty\n",
    "        \n",
    "x.to_csv('test_promoeducation.csv')"
   ]
  },
  {
   "cell_type": "code",
   "execution_count": 7,
   "metadata": {
    "collapsed": false
   },
   "outputs": [
    {
     "data": {
      "text/plain": [
       "0        1\n",
       "1        1\n",
       "2        1\n",
       "3        1\n",
       "4        1\n",
       "5        1\n",
       "6        1\n",
       "7        1\n",
       "8        1\n",
       "9        1\n",
       "10       1\n",
       "11       1\n",
       "12       1\n",
       "13       1\n",
       "14       1\n",
       "15       1\n",
       "16       1\n",
       "17       1\n",
       "18       1\n",
       "19       1\n",
       "20       1\n",
       "21       1\n",
       "22       1\n",
       "23       1\n",
       "24       1\n",
       "25       1\n",
       "26       1\n",
       "27       1\n",
       "28       1\n",
       "29       1\n",
       "        ..\n",
       "52375    1\n",
       "52376    1\n",
       "52377    1\n",
       "52378    1\n",
       "52379    1\n",
       "52380    1\n",
       "52381    1\n",
       "52382    1\n",
       "52383    1\n",
       "52384    1\n",
       "52385    1\n",
       "52386    1\n",
       "52387    1\n",
       "52388    1\n",
       "52389    1\n",
       "52390    1\n",
       "52391    1\n",
       "52392    1\n",
       "52393    1\n",
       "52394    1\n",
       "52395    1\n",
       "52396    1\n",
       "52397    1\n",
       "52398    1\n",
       "52399    1\n",
       "52400    1\n",
       "52401    1\n",
       "52402    1\n",
       "52403    1\n",
       "52404    1\n",
       "Name: Promotions_Store, dtype: int64"
      ]
     },
     "execution_count": 7,
     "metadata": {},
     "output_type": "execute_result"
    }
   ],
   "source": [
    "x['Promotions_Store'][x['Promotions_Store']==1]\n",
    " "
   ]
  },
  {
   "cell_type": "code",
   "execution_count": null,
   "metadata": {
    "collapsed": true
   },
   "outputs": [],
   "source": []
  }
 ],
 "metadata": {
  "kernelspec": {
   "display_name": "Python 2",
   "language": "python",
   "name": "python2"
  },
  "language_info": {
   "codemirror_mode": {
    "name": "ipython",
    "version": 2
   },
   "file_extension": ".py",
   "mimetype": "text/x-python",
   "name": "python",
   "nbconvert_exporter": "python",
   "pygments_lexer": "ipython2",
   "version": "2.7.11"
  }
 },
 "nbformat": 4,
 "nbformat_minor": 0
}
